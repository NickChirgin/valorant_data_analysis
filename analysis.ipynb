{
 "cells": [
  {
   "cell_type": "code",
   "execution_count": 47,
   "metadata": {},
   "outputs": [],
   "source": [
    "import pandas as pd\n",
    "import seaborn as sns\n",
    "import matplotlib.pyplot as plt\n",
    "\n",
    "%matplotlib inline"
   ]
  },
  {
   "cell_type": "markdown",
   "metadata": {},
   "source": [
    "## Information about the columns:\n",
    "    Rounds - Amount of rounds player played.\n",
    "    ACS - is an abbreviation of \"Average Combat Score.\" \n",
    "    ACS defines a player's overall performance which includes kills, assists, deaths, ability usage, first blood, damage, economic awareness and much more.\n",
    "    K/D - Kill / Death ratio\n",
    "    ADR - an Average Damage per Round\n",
    "    KPR - an Average Kills per Round\n",
    "    DPR - an Average Deaths per Round\n",
    "    APR - an Average Assists per Round\n",
    "    FBPR - an Average First Bloods per Round\n",
    "    FDPR - an Average First Deaths per Round\n",
    "    HS% - Headshot Percentage (Amount of your shots landed to the head)\n",
    "    FBSR - First Blood Success Rate"
   ]
  },
  {
   "cell_type": "markdown",
   "metadata": {},
   "source": [
    "## We will try to answer the following questions about the data:\n",
    "    1. What's the distribution of players around the World?\n",
    "    2. Find the average of each metric for future analysis\n",
    "    3. What is the correlation between metrics?\n",
    "    4. At what metric each country is good at?\n",
    "    5. Who's top 10 performers based on both raing and KDR?\n",
    "    6. Does HS% and KDR relation follow linear regression?\n",
    "    7.\n",
    "\n"
   ]
  },
  {
   "cell_type": "code",
   "execution_count": 4,
   "metadata": {},
   "outputs": [],
   "source": [
    "#First we need to import our data\n",
    "df = pd.read_csv('valorant_stats.csv', sep=',')"
   ]
  },
  {
   "cell_type": "code",
   "execution_count": 9,
   "metadata": {},
   "outputs": [
    {
     "data": {
      "text/plain": [
       "Player     0\n",
       "Country    0\n",
       "Rounds     0\n",
       "Rating     0\n",
       "ACS        0\n",
       "K/D        0\n",
       "ADR        0\n",
       "KPR        0\n",
       "DPR        0\n",
       "APR        0\n",
       "FBPR       0\n",
       "FDPR       0\n",
       "HS%        0\n",
       "FBSR       0\n",
       "dtype: int64"
      ]
     },
     "execution_count": 9,
     "metadata": {},
     "output_type": "execute_result"
    }
   ],
   "source": [
    "df.isnull().sum()\n",
    "#Since we have a clean data right right away we can start our analysis"
   ]
  },
  {
   "cell_type": "markdown",
   "metadata": {},
   "source": [
    "## 1.What is the destribution of players around the world?"
   ]
  },
  {
   "cell_type": "code",
   "execution_count": 64,
   "metadata": {},
   "outputs": [
    {
     "data": {
      "text/plain": [
       "<AxesSubplot:xlabel='Country'>"
      ]
     },
     "execution_count": 64,
     "metadata": {},
     "output_type": "execute_result"
    },
    {
     "data": {
      "image/png": "[encoded data removed]",
      "text/plain": [
       "<Figure size 432x288 with 1 Axes>"
      ]
     },
     "metadata": {
      "needs_background": "light"
     },
     "output_type": "display_data"
    }
   ],
   "source": [
    "player_by_country = df.groupby(['Country'])['Player'].count().sort_values(ascending=False).head(10)\n",
    "player_by_country\n",
    "#Since there too many countries showing all of the countries would mess our space, so lets show the top 10\n",
    "player_by_country.plot.bar()\n",
    "\n",
    "\n"
   ]
  }
 ],
 "metadata": {
  "interpreter": {
   "hash": "9e73fa6c7d2eec20d67899cb1a6538130862710db2858ffb60b0613cf6bad662"
  },
  "kernelspec": {
   "display_name": "Python 3.9.10 64-bit (windows store)",
   "language": "python",
   "name": "python3"
  },
  "language_info": {
   "codemirror_mode": {
    "name": "ipython",
    "version": 3
   },
   "file_extension": ".py",
   "mimetype": "text/x-python",
   "name": "python",
   "nbconvert_exporter": "python",
   "pygments_lexer": "ipython3",
   "version": "3.9.10"
  },
  "orig_nbformat": 4
 },
 "nbformat": 4,
 "nbformat_minor": 2
}
