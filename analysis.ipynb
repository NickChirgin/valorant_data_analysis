{
 "cells": [
  {
   "cell_type": "code",
   "execution_count": 202,
   "metadata": {},
   "outputs": [],
   "source": [
    "import pandas as pd\n",
    "import seaborn as sns\n",
    "import matplotlib.pyplot as plt\n",
    "import numpy as np\n",
    "\n",
    "%matplotlib inline"
   ]
  },
  {
   "cell_type": "markdown",
   "metadata": {},
   "source": [
    "## Information about the columns:\n",
    "    Rounds - Amount of rounds player played.\n",
    "    ACS - is an abbreviation of \"Average Combat Score.\" \n",
    "    ACS defines a player's overall performance which includes kills, assists, deaths, ability usage, first blood, damage, economic awareness and much more.\n",
    "    K/D - Kill / Death ratio\n",
    "    ADR - an Average Damage per Round\n",
    "    KPR - an Average Kills per Round\n",
    "    DPR - an Average Deaths per Round\n",
    "    APR - an Average Assists per Round\n",
    "    FBPR - an Average First Bloods per Round\n",
    "    FDPR - an Average First Deaths per Round\n",
    "    HS% - Headshot Percentage (Amount of your shots landed to the head)\n",
    "    FBSR - First Blood Success Rate"
   ]
  },
  {
   "cell_type": "markdown",
   "metadata": {},
   "source": [
    "## We will try to answer the following questions about the data:\n",
    "    1. Which region has the most players base?\n",
    "    2. Find the average of each metric for future analysis\n",
    "    3. What is the correlation between metrics?\n",
    "    4. At what metric each country is good at?\n",
    "    5. Who's top 10 performers based on both rating and KDR?\n",
    "    6. Does HS% and KDR relation follow linear regression?\n",
    "\n"
   ]
  },
  {
   "cell_type": "code",
   "execution_count": 203,
   "metadata": {},
   "outputs": [],
   "source": [
    "#First we need to import our data\n",
    "df = pd.read_csv('valorant_stats.csv', sep=',')"
   ]
  },
  {
   "cell_type": "code",
   "execution_count": 204,
   "metadata": {},
   "outputs": [
    {
     "data": {
      "text/plain": [
       "0    35%\n",
       "1    17%\n",
       "2    24%\n",
       "3    22%\n",
       "4    18%\n",
       "Name: HS%, dtype: object"
      ]
     },
     "execution_count": 204,
     "metadata": {},
     "output_type": "execute_result"
    }
   ],
   "source": [
    "df['HS%'].head()\n",
    "#Need to remove percentage sign to perform math operations on this column\n",
    "#And we need to do the same with FBSR column"
   ]
  },
  {
   "cell_type": "code",
   "execution_count": 205,
   "metadata": {},
   "outputs": [],
   "source": [
    "df['HS%'] = df['HS%'].str.replace('%', '').astype(int)\n",
    "df['FBSR'] = df['FBSR'].str.replace('%', '').astype(int)"
   ]
  },
  {
   "cell_type": "code",
   "execution_count": 206,
   "metadata": {},
   "outputs": [
    {
     "data": {
      "text/plain": [
       "Player     0\n",
       "Country    0\n",
       "Rounds     0\n",
       "Rating     0\n",
       "ACS        0\n",
       "K/D        0\n",
       "ADR        0\n",
       "KPR        0\n",
       "DPR        0\n",
       "APR        0\n",
       "FBPR       0\n",
       "FDPR       0\n",
       "HS%        0\n",
       "FBSR       0\n",
       "dtype: int64"
      ]
     },
     "execution_count": 206,
     "metadata": {},
     "output_type": "execute_result"
    }
   ],
   "source": [
    "df.isnull().sum()\n",
    "#Since we have a clean data right right away we can start our analysis"
   ]
  },
  {
   "cell_type": "markdown",
   "metadata": {},
   "source": [
    "## 1.Which region has the most players base?"
   ]
  },
  {
   "cell_type": "code",
   "execution_count": 207,
   "metadata": {},
   "outputs": [
    {
     "data": {
      "image/png": "[encoded data removed]",
      "text/plain": [
       "<Figure size 720x576 with 1 Axes>"
      ]
     },
     "metadata": {
      "needs_background": "light"
     },
     "output_type": "display_data"
    }
   ],
   "source": [
    "player_by_country = df.groupby(['Country'])['Player'].count().sort_values(ascending=False).head(10)\n",
    "#Since there too many countries showing all of them would mess our space, lets show only the top 10.\n",
    "plt.figure(figsize=(10, 8))\n",
    "player_by_country.plot(kind='barh', color='brown')\n",
    "plt.title('Top 10 countries by player count', fontdict={'fontsize': 24})\n",
    "plt.ylabel('Country')\n",
    "plt.xlabel('Player count')\n",
    "plt.show()\n",
    "\n",
    "\n"
   ]
  },
  {
   "cell_type": "markdown",
   "metadata": {},
   "source": [
    "We can see that Valorant popular across both North and South Americas. And it makes sense, because Valorant competitor(Counter Strike Global Offensive) had a lot of issues in competetive e-sports scene. It was due to multiple reasons:\n",
    "  * There is no big tournaments.\n",
    "  * Companies stopped investing into organisations(If there is no tournaments - there is no viewship, not many people will see Your brand).\n",
    "  * Not many up and coming players that could reach top results to boost region."
   ]
  },
  {
   "cell_type": "markdown",
   "metadata": {},
   "source": [
    "### 2.Find the average of each metric\n"
   ]
  },
  {
   "cell_type": "code",
   "execution_count": 208,
   "metadata": {},
   "outputs": [
    {
     "name": "stderr",
     "output_type": "stream",
     "text": [
      "C:\\Users\\stren\\AppData\\Local\\Temp/ipykernel_14060/3698961737.py:1: FutureWarning: Dropping of nuisance columns in DataFrame reductions (with 'numeric_only=None') is deprecated; in a future version this will raise TypeError.  Select only valid columns before calling the reduction.\n",
      "  df.mean()\n"
     ]
    },
    {
     "data": {
      "text/plain": [
       "Rounds    3031.060109\n",
       "Rating       1.060451\n",
       "ACS        213.547131\n",
       "K/D          1.102527\n",
       "ADR        137.048087\n",
       "KPR          0.745014\n",
       "DPR          0.677978\n",
       "APR          0.264508\n",
       "FBPR         0.109016\n",
       "FDPR         0.094508\n",
       "HS%         23.210383\n",
       "FBSR        53.090164\n",
       "dtype: float64"
      ]
     },
     "execution_count": 208,
     "metadata": {},
     "output_type": "execute_result"
    }
   ],
   "source": [
    "df.mean()"
   ]
  },
  {
   "cell_type": "markdown",
   "metadata": {},
   "source": [
    "#### Key takeaways on average:\n",
    "  * 3031 round which is 100+ maps played\n",
    "  * Positive rating and K/D\n",
    "  * ADR of 137 (Every player has max HitPoints at 150) so almost 1 kill per round\n",
    "  * KDR of 0.745 which proves the previous point\n",
    "  * HS% of 23.2 which is quite low. I expected much higher results"
   ]
  },
  {
   "cell_type": "markdown",
   "metadata": {},
   "source": [
    "## 3. What is the corellation between metrics?"
   ]
  },
  {
   "cell_type": "code",
   "execution_count": 209,
   "metadata": {},
   "outputs": [
    {
     "name": "stdout",
     "output_type": "stream",
     "text": [
      "          Rounds    Rating       ACS       K/D       ADR       KPR       DPR  \\\n",
      "Rounds  1.000000  0.253147  0.168469  0.280111  0.148507  0.197477 -0.226553   \n",
      "Rating  0.253147  1.000000  0.909228  0.879704  0.889345  0.914826 -0.114205   \n",
      "ACS     0.168469  0.909228  1.000000  0.812675  0.963560  0.974728  0.138971   \n",
      "K/D     0.280111  0.879704  0.812675  1.000000  0.790533  0.867688 -0.424502   \n",
      "ADR     0.148507  0.889345  0.963560  0.790533  1.000000  0.933659  0.110831   \n",
      "KPR     0.197477  0.914826  0.974728  0.867688  0.933659  1.000000  0.072095   \n",
      "DPR    -0.226553 -0.114205  0.138971 -0.424502  0.110831  0.072095  1.000000   \n",
      "APR     0.049000 -0.100792 -0.333900 -0.190143 -0.261145 -0.385637 -0.330343   \n",
      "FBPR    0.067123  0.625391  0.809442  0.516379  0.726614  0.778779  0.378963   \n",
      "FDPR   -0.127450  0.209697  0.453413  0.030271  0.382805  0.399577  0.678673   \n",
      "HS%     0.120257  0.160700  0.101452  0.200073  0.142308  0.193474 -0.051276   \n",
      "FBSR    0.304994  0.701309  0.660982  0.769025  0.641622  0.680138 -0.316791   \n",
      "\n",
      "             APR      FBPR      FDPR       HS%      FBSR  \n",
      "Rounds  0.049000  0.067123 -0.127450  0.120257  0.304994  \n",
      "Rating -0.100792  0.625391  0.209697  0.160700  0.701309  \n",
      "ACS    -0.333900  0.809442  0.453413  0.101452  0.660982  \n",
      "K/D    -0.190143  0.516379  0.030271  0.200073  0.769025  \n",
      "ADR    -0.261145  0.726614  0.382805  0.142308  0.641622  \n",
      "KPR    -0.385637  0.778779  0.399577  0.193474  0.680138  \n",
      "DPR    -0.330343  0.378963  0.678673 -0.051276 -0.316791  \n",
      "APR     1.000000 -0.562413 -0.497289 -0.163254 -0.177043  \n",
      "FBPR   -0.562413  1.000000  0.769447  0.040844  0.498028  \n",
      "FDPR   -0.497289  0.769447  1.000000 -0.037973 -0.119817  \n",
      "HS%    -0.163254  0.040844 -0.037973  1.000000  0.147029  \n",
      "FBSR   -0.177043  0.498028 -0.119817  0.147029  1.000000  \n"
     ]
    }
   ],
   "source": [
    "corr = df.corr()\n",
    "print(corr)"
   ]
  },
  {
   "cell_type": "markdown",
   "metadata": {},
   "source": [
    "Thats a lot of numbers to process. We can use seaborns heatmap to understand this table better."
   ]
  },
  {
   "cell_type": "code",
   "execution_count": 210,
   "metadata": {},
   "outputs": [
    {
     "data": {
      "image/png": "[encoded data removed]",
      "text/plain": [
       "<Figure size 720x432 with 2 Axes>"
      ]
     },
     "metadata": {
      "needs_background": "light"
     },
     "output_type": "display_data"
    }
   ],
   "source": [
    "plt.figure(figsize=(10, 6))\n",
    "sns.heatmap(corr)\n",
    "plt.show()"
   ]
  },
  {
   "cell_type": "markdown",
   "metadata": {},
   "source": [
    "There is strong correlation between Rating, ACS, K/D, ADR which is understandable, in fact some of this metrics calculated based on each other. But the most interesting part is that the only column without any correlation is HS% which is counter-intuitive because shot in the head dealing twice as much damage, meaning the ADR, ACS, K/D should go up as HS% go up."
   ]
  },
  {
   "cell_type": "markdown",
   "metadata": {},
   "source": [
    "## 4. At what metric each country is good at?/ Which country is the best overall?"
   ]
  },
  {
   "cell_type": "code",
   "execution_count": 211,
   "metadata": {},
   "outputs": [
    {
     "data": {
      "text/plain": [
       "Country\n",
       "Serbia            1.2600\n",
       "Paraguay          1.1900\n",
       "Belarus           1.1825\n",
       "Czech Republic    1.1800\n",
       "Portugal          1.1750\n",
       "Name: Rating, dtype: float64"
      ]
     },
     "execution_count": 211,
     "metadata": {},
     "output_type": "execute_result"
    }
   ],
   "source": [
    "player_count = df.groupby('Country')['Player'].count().reset_index()\n",
    "average = df.groupby('Country')['Rating'].mean().sort_values(ascending=False).head(5)\n",
    "average"
   ]
  },
  {
   "cell_type": "code",
   "execution_count": 212,
   "metadata": {},
   "outputs": [
    {
     "data": {
      "text/plain": [
       "Country\n",
       "Serbia            254.60\n",
       "Czech Republic    248.25\n",
       "Portugal          243.90\n",
       "Croatia           233.60\n",
       "Ireland           232.50\n",
       "Name: ACS, dtype: float64"
      ]
     },
     "execution_count": 212,
     "metadata": {},
     "output_type": "execute_result"
    }
   ],
   "source": [
    "average = df.groupby('Country')['ACS'].mean().sort_values(ascending=False).head(5)\n",
    "average"
   ]
  },
  {
   "cell_type": "code",
   "execution_count": 213,
   "metadata": {},
   "outputs": [
    {
     "data": {
      "text/plain": [
       "Country\n",
       "Serbia        1.390\n",
       "Costa Rica    1.350\n",
       "Morocco       1.350\n",
       "Belgium       1.305\n",
       "Portugal      1.255\n",
       "Name: K/D, dtype: float64"
      ]
     },
     "execution_count": 213,
     "metadata": {},
     "output_type": "execute_result"
    }
   ],
   "source": [
    "average = df.groupby('Country')['K/D'].mean().sort_values(ascending=False).head(5)\n",
    "average"
   ]
  },
  {
   "cell_type": "code",
   "execution_count": 214,
   "metadata": {},
   "outputs": [
    {
     "data": {
      "text/plain": [
       "Country\n",
       "Serbia            161.000\n",
       "Czech Republic    155.850\n",
       "Belgium           152.550\n",
       "Portugal          150.950\n",
       "Belarus           150.125\n",
       "Name: ADR, dtype: float64"
      ]
     },
     "execution_count": 214,
     "metadata": {},
     "output_type": "execute_result"
    }
   ],
   "source": [
    "average = df.groupby('Country')['ADR'].mean().sort_values(ascending=False).head(5)\n",
    "average"
   ]
  },
  {
   "cell_type": "code",
   "execution_count": 215,
   "metadata": {},
   "outputs": [
    {
     "data": {
      "text/plain": [
       "Country\n",
       "Ukraine                   31.0\n",
       "China                     31.0\n",
       "Belgium                   30.5\n",
       "Bosnia and Herzegovina    29.0\n",
       "Ireland                   28.0\n",
       "Name: HS%, dtype: float64"
      ]
     },
     "execution_count": 215,
     "metadata": {},
     "output_type": "execute_result"
    }
   ],
   "source": [
    "average = df.groupby('Country')['HS%'].mean().sort_values(ascending=False).head(5)\n",
    "average"
   ]
  },
  {
   "cell_type": "markdown",
   "metadata": {},
   "source": [
    "Surpisingly enough country that has top metrics is Serbia that followed by Czech Republic and Portugal. Lets check how many players we have from this countries to have a porper understanding."
   ]
  },
  {
   "cell_type": "code",
   "execution_count": 216,
   "metadata": {},
   "outputs": [
    {
     "name": "stdout",
     "output_type": "stream",
     "text": [
      "   Country  Player\n",
      "34  Serbia       1\n",
      "     Country  Player\n",
      "32  Portugal       2\n",
      "           Country  Player\n",
      "14  Czech Republic       2\n"
     ]
    }
   ],
   "source": [
    "top_countries = df.groupby('Country')['Player'].count().reset_index()\n",
    "print(top_countries[top_countries['Country'] == 'Serbia'])\n",
    "print(top_countries[top_countries['Country'] == 'Portugal'])\n",
    "print(top_countries[top_countries['Country'] == 'Czech Republic'])\n"
   ]
  },
  {
   "cell_type": "markdown",
   "metadata": {},
   "source": [
    "Those countries have too little player in the scene, so this information is irrelevant. Better solution would be find this statistic across countries with 10+ players."
   ]
  },
  {
   "cell_type": "code",
   "execution_count": 217,
   "metadata": {},
   "outputs": [
    {
     "data": {
      "text/html": [
       "<div>\n",
       "<style scoped>\n",
       "    .dataframe tbody tr th:only-of-type {\n",
       "        vertical-align: middle;\n",
       "    }\n",
       "\n",
       "    .dataframe tbody tr th {\n",
       "        vertical-align: top;\n",
       "    }\n",
       "\n",
       "    .dataframe thead th {\n",
       "        text-align: right;\n",
       "    }\n",
       "</style>\n",
       "<table border=\"1\" class=\"dataframe\">\n",
       "  <thead>\n",
       "    <tr style=\"text-align: right;\">\n",
       "      <th></th>\n",
       "      <th>Country</th>\n",
       "      <th>Rounds</th>\n",
       "      <th>Rating</th>\n",
       "      <th>ACS</th>\n",
       "      <th>K/D</th>\n",
       "      <th>ADR</th>\n",
       "      <th>KPR</th>\n",
       "      <th>DPR</th>\n",
       "      <th>APR</th>\n",
       "      <th>FBPR</th>\n",
       "      <th>FDPR</th>\n",
       "      <th>HS%</th>\n",
       "      <th>FBSR</th>\n",
       "    </tr>\n",
       "  </thead>\n",
       "  <tbody>\n",
       "    <tr>\n",
       "      <th>0</th>\n",
       "      <td>Argentina</td>\n",
       "      <td>2006.941176</td>\n",
       "      <td>1.045882</td>\n",
       "      <td>209.270588</td>\n",
       "      <td>1.116471</td>\n",
       "      <td>133.376471</td>\n",
       "      <td>0.731765</td>\n",
       "      <td>0.657647</td>\n",
       "      <td>0.286471</td>\n",
       "      <td>0.104706</td>\n",
       "      <td>0.088824</td>\n",
       "      <td>23.764706</td>\n",
       "      <td>53.705882</td>\n",
       "    </tr>\n",
       "    <tr>\n",
       "      <th>1</th>\n",
       "      <td>Brazil</td>\n",
       "      <td>1918.428571</td>\n",
       "      <td>1.031092</td>\n",
       "      <td>208.292437</td>\n",
       "      <td>1.063193</td>\n",
       "      <td>134.230252</td>\n",
       "      <td>0.726975</td>\n",
       "      <td>0.684118</td>\n",
       "      <td>0.265462</td>\n",
       "      <td>0.105630</td>\n",
       "      <td>0.097563</td>\n",
       "      <td>22.142857</td>\n",
       "      <td>51.453782</td>\n",
       "    </tr>\n",
       "    <tr>\n",
       "      <th>2</th>\n",
       "      <td>Mexico</td>\n",
       "      <td>1805.777778</td>\n",
       "      <td>1.036667</td>\n",
       "      <td>208.750000</td>\n",
       "      <td>1.055556</td>\n",
       "      <td>134.627778</td>\n",
       "      <td>0.716667</td>\n",
       "      <td>0.682222</td>\n",
       "      <td>0.290000</td>\n",
       "      <td>0.105556</td>\n",
       "      <td>0.098333</td>\n",
       "      <td>21.388889</td>\n",
       "      <td>51.777778</td>\n",
       "    </tr>\n",
       "    <tr>\n",
       "      <th>3</th>\n",
       "      <td>Colombia</td>\n",
       "      <td>1969.454545</td>\n",
       "      <td>1.096818</td>\n",
       "      <td>221.354545</td>\n",
       "      <td>1.157727</td>\n",
       "      <td>140.181818</td>\n",
       "      <td>0.771364</td>\n",
       "      <td>0.669545</td>\n",
       "      <td>0.270455</td>\n",
       "      <td>0.122273</td>\n",
       "      <td>0.098182</td>\n",
       "      <td>22.681818</td>\n",
       "      <td>53.409091</td>\n",
       "    </tr>\n",
       "    <tr>\n",
       "      <th>4</th>\n",
       "      <td>Armenia</td>\n",
       "      <td>485.393939</td>\n",
       "      <td>1.043333</td>\n",
       "      <td>212.084848</td>\n",
       "      <td>1.077576</td>\n",
       "      <td>139.342424</td>\n",
       "      <td>0.738485</td>\n",
       "      <td>0.688485</td>\n",
       "      <td>0.261212</td>\n",
       "      <td>0.106364</td>\n",
       "      <td>0.098485</td>\n",
       "      <td>22.272727</td>\n",
       "      <td>51.303030</td>\n",
       "    </tr>\n",
       "    <tr>\n",
       "      <th>5</th>\n",
       "      <td>Canada</td>\n",
       "      <td>6668.194444</td>\n",
       "      <td>1.106389</td>\n",
       "      <td>222.866667</td>\n",
       "      <td>1.158611</td>\n",
       "      <td>141.838889</td>\n",
       "      <td>0.781389</td>\n",
       "      <td>0.675000</td>\n",
       "      <td>0.254722</td>\n",
       "      <td>0.118056</td>\n",
       "      <td>0.091944</td>\n",
       "      <td>23.166667</td>\n",
       "      <td>55.833333</td>\n",
       "    </tr>\n",
       "    <tr>\n",
       "      <th>6</th>\n",
       "      <td>United States</td>\n",
       "      <td>5643.818182</td>\n",
       "      <td>1.077364</td>\n",
       "      <td>214.936364</td>\n",
       "      <td>1.113364</td>\n",
       "      <td>138.014545</td>\n",
       "      <td>0.752545</td>\n",
       "      <td>0.676818</td>\n",
       "      <td>0.271091</td>\n",
       "      <td>0.108455</td>\n",
       "      <td>0.091091</td>\n",
       "      <td>23.809091</td>\n",
       "      <td>54.290909</td>\n",
       "    </tr>\n",
       "    <tr>\n",
       "      <th>7</th>\n",
       "      <td>Japan</td>\n",
       "      <td>1505.723684</td>\n",
       "      <td>1.016974</td>\n",
       "      <td>207.228947</td>\n",
       "      <td>1.048158</td>\n",
       "      <td>133.727632</td>\n",
       "      <td>0.720132</td>\n",
       "      <td>0.690395</td>\n",
       "      <td>0.258816</td>\n",
       "      <td>0.104737</td>\n",
       "      <td>0.097368</td>\n",
       "      <td>22.171053</td>\n",
       "      <td>51.184211</td>\n",
       "    </tr>\n",
       "    <tr>\n",
       "      <th>8</th>\n",
       "      <td>South Korea</td>\n",
       "      <td>1661.464789</td>\n",
       "      <td>1.054789</td>\n",
       "      <td>213.919718</td>\n",
       "      <td>1.091408</td>\n",
       "      <td>136.036620</td>\n",
       "      <td>0.741831</td>\n",
       "      <td>0.684366</td>\n",
       "      <td>0.256620</td>\n",
       "      <td>0.111408</td>\n",
       "      <td>0.100423</td>\n",
       "      <td>23.380282</td>\n",
       "      <td>52.126761</td>\n",
       "    </tr>\n",
       "    <tr>\n",
       "      <th>9</th>\n",
       "      <td>Turkey</td>\n",
       "      <td>3241.693878</td>\n",
       "      <td>1.078367</td>\n",
       "      <td>217.140816</td>\n",
       "      <td>1.118776</td>\n",
       "      <td>139.765306</td>\n",
       "      <td>0.761020</td>\n",
       "      <td>0.682041</td>\n",
       "      <td>0.257959</td>\n",
       "      <td>0.110000</td>\n",
       "      <td>0.095306</td>\n",
       "      <td>25.653061</td>\n",
       "      <td>52.673469</td>\n",
       "    </tr>\n",
       "    <tr>\n",
       "      <th>10</th>\n",
       "      <td>Russia</td>\n",
       "      <td>3781.346154</td>\n",
       "      <td>1.098846</td>\n",
       "      <td>219.330769</td>\n",
       "      <td>1.182308</td>\n",
       "      <td>140.326923</td>\n",
       "      <td>0.769231</td>\n",
       "      <td>0.651538</td>\n",
       "      <td>0.258462</td>\n",
       "      <td>0.107692</td>\n",
       "      <td>0.082692</td>\n",
       "      <td>25.153846</td>\n",
       "      <td>56.423077</td>\n",
       "    </tr>\n",
       "    <tr>\n",
       "      <th>11</th>\n",
       "      <td>Chile</td>\n",
       "      <td>2446.068966</td>\n",
       "      <td>1.062414</td>\n",
       "      <td>215.006897</td>\n",
       "      <td>1.107931</td>\n",
       "      <td>136.920690</td>\n",
       "      <td>0.747931</td>\n",
       "      <td>0.678966</td>\n",
       "      <td>0.278966</td>\n",
       "      <td>0.108276</td>\n",
       "      <td>0.096207</td>\n",
       "      <td>21.758621</td>\n",
       "      <td>51.827586</td>\n",
       "    </tr>\n",
       "    <tr>\n",
       "      <th>12</th>\n",
       "      <td>United Kingdom</td>\n",
       "      <td>4241.142857</td>\n",
       "      <td>1.047143</td>\n",
       "      <td>204.457143</td>\n",
       "      <td>1.113571</td>\n",
       "      <td>131.514286</td>\n",
       "      <td>0.719286</td>\n",
       "      <td>0.647143</td>\n",
       "      <td>0.280714</td>\n",
       "      <td>0.088571</td>\n",
       "      <td>0.073571</td>\n",
       "      <td>25.071429</td>\n",
       "      <td>54.714286</td>\n",
       "    </tr>\n",
       "  </tbody>\n",
       "</table>\n",
       "</div>"
      ],
      "text/plain": [
       "           Country       Rounds    Rating         ACS       K/D         ADR  \\\n",
       "0        Argentina  2006.941176  1.045882  209.270588  1.116471  133.376471   \n",
       "1           Brazil  1918.428571  1.031092  208.292437  1.063193  134.230252   \n",
       "2           Mexico  1805.777778  1.036667  208.750000  1.055556  134.627778   \n",
       "3         Colombia  1969.454545  1.096818  221.354545  1.157727  140.181818   \n",
       "4          Armenia   485.393939  1.043333  212.084848  1.077576  139.342424   \n",
       "5           Canada  6668.194444  1.106389  222.866667  1.158611  141.838889   \n",
       "6    United States  5643.818182  1.077364  214.936364  1.113364  138.014545   \n",
       "7            Japan  1505.723684  1.016974  207.228947  1.048158  133.727632   \n",
       "8      South Korea  1661.464789  1.054789  213.919718  1.091408  136.036620   \n",
       "9           Turkey  3241.693878  1.078367  217.140816  1.118776  139.765306   \n",
       "10          Russia  3781.346154  1.098846  219.330769  1.182308  140.326923   \n",
       "11           Chile  2446.068966  1.062414  215.006897  1.107931  136.920690   \n",
       "12  United Kingdom  4241.142857  1.047143  204.457143  1.113571  131.514286   \n",
       "\n",
       "         KPR       DPR       APR      FBPR      FDPR        HS%       FBSR  \n",
       "0   0.731765  0.657647  0.286471  0.104706  0.088824  23.764706  53.705882  \n",
       "1   0.726975  0.684118  0.265462  0.105630  0.097563  22.142857  51.453782  \n",
       "2   0.716667  0.682222  0.290000  0.105556  0.098333  21.388889  51.777778  \n",
       "3   0.771364  0.669545  0.270455  0.122273  0.098182  22.681818  53.409091  \n",
       "4   0.738485  0.688485  0.261212  0.106364  0.098485  22.272727  51.303030  \n",
       "5   0.781389  0.675000  0.254722  0.118056  0.091944  23.166667  55.833333  \n",
       "6   0.752545  0.676818  0.271091  0.108455  0.091091  23.809091  54.290909  \n",
       "7   0.720132  0.690395  0.258816  0.104737  0.097368  22.171053  51.184211  \n",
       "8   0.741831  0.684366  0.256620  0.111408  0.100423  23.380282  52.126761  \n",
       "9   0.761020  0.682041  0.257959  0.110000  0.095306  25.653061  52.673469  \n",
       "10  0.769231  0.651538  0.258462  0.107692  0.082692  25.153846  56.423077  \n",
       "11  0.747931  0.678966  0.278966  0.108276  0.096207  21.758621  51.827586  \n",
       "12  0.719286  0.647143  0.280714  0.088571  0.073571  25.071429  54.714286  "
      ]
     },
     "execution_count": 217,
     "metadata": {},
     "output_type": "execute_result"
    }
   ],
   "source": [
    "player_count = df.groupby('Country')['Player'].count().sort_values(ascending=False).reset_index()\n",
    "list_of_countries = set(player_count[player_count['Player'] > 10]['Country'])\n",
    "avg = df.groupby('Country').mean().reset_index()\n",
    "relevant_df = pd.DataFrame()\n",
    "for cnt in list_of_countries:\n",
    "    relevant_df= pd.concat([avg[avg['Country'] == cnt], relevant_df], ignore_index=True)\n",
    "relevant_df"
   ]
  },
  {
   "cell_type": "code",
   "execution_count": 218,
   "metadata": {},
   "outputs": [
    {
     "data": {
      "text/html": [
       "<div>\n",
       "<style scoped>\n",
       "    .dataframe tbody tr th:only-of-type {\n",
       "        vertical-align: middle;\n",
       "    }\n",
       "\n",
       "    .dataframe tbody tr th {\n",
       "        vertical-align: top;\n",
       "    }\n",
       "\n",
       "    .dataframe thead th {\n",
       "        text-align: right;\n",
       "    }\n",
       "</style>\n",
       "<table border=\"1\" class=\"dataframe\">\n",
       "  <thead>\n",
       "    <tr style=\"text-align: right;\">\n",
       "      <th></th>\n",
       "      <th>Country</th>\n",
       "      <th>Rating</th>\n",
       "    </tr>\n",
       "  </thead>\n",
       "  <tbody>\n",
       "    <tr>\n",
       "      <th>5</th>\n",
       "      <td>Canada</td>\n",
       "      <td>1.106389</td>\n",
       "    </tr>\n",
       "    <tr>\n",
       "      <th>10</th>\n",
       "      <td>Russia</td>\n",
       "      <td>1.098846</td>\n",
       "    </tr>\n",
       "    <tr>\n",
       "      <th>3</th>\n",
       "      <td>Colombia</td>\n",
       "      <td>1.096818</td>\n",
       "    </tr>\n",
       "    <tr>\n",
       "      <th>9</th>\n",
       "      <td>Turkey</td>\n",
       "      <td>1.078367</td>\n",
       "    </tr>\n",
       "    <tr>\n",
       "      <th>6</th>\n",
       "      <td>United States</td>\n",
       "      <td>1.077364</td>\n",
       "    </tr>\n",
       "  </tbody>\n",
       "</table>\n",
       "</div>"
      ],
      "text/plain": [
       "          Country    Rating\n",
       "5          Canada  1.106389\n",
       "10         Russia  1.098846\n",
       "3        Colombia  1.096818\n",
       "9          Turkey  1.078367\n",
       "6   United States  1.077364"
      ]
     },
     "execution_count": 218,
     "metadata": {},
     "output_type": "execute_result"
    }
   ],
   "source": [
    "relevant_df[['Country', 'Rating']].sort_values(by='Rating', ascending=False).head(5)"
   ]
  },
  {
   "cell_type": "code",
   "execution_count": 219,
   "metadata": {},
   "outputs": [
    {
     "data": {
      "text/html": [
       "<div>\n",
       "<style scoped>\n",
       "    .dataframe tbody tr th:only-of-type {\n",
       "        vertical-align: middle;\n",
       "    }\n",
       "\n",
       "    .dataframe tbody tr th {\n",
       "        vertical-align: top;\n",
       "    }\n",
       "\n",
       "    .dataframe thead th {\n",
       "        text-align: right;\n",
       "    }\n",
       "</style>\n",
       "<table border=\"1\" class=\"dataframe\">\n",
       "  <thead>\n",
       "    <tr style=\"text-align: right;\">\n",
       "      <th></th>\n",
       "      <th>Country</th>\n",
       "      <th>ACS</th>\n",
       "    </tr>\n",
       "  </thead>\n",
       "  <tbody>\n",
       "    <tr>\n",
       "      <th>5</th>\n",
       "      <td>Canada</td>\n",
       "      <td>222.866667</td>\n",
       "    </tr>\n",
       "    <tr>\n",
       "      <th>3</th>\n",
       "      <td>Colombia</td>\n",
       "      <td>221.354545</td>\n",
       "    </tr>\n",
       "    <tr>\n",
       "      <th>10</th>\n",
       "      <td>Russia</td>\n",
       "      <td>219.330769</td>\n",
       "    </tr>\n",
       "    <tr>\n",
       "      <th>9</th>\n",
       "      <td>Turkey</td>\n",
       "      <td>217.140816</td>\n",
       "    </tr>\n",
       "    <tr>\n",
       "      <th>11</th>\n",
       "      <td>Chile</td>\n",
       "      <td>215.006897</td>\n",
       "    </tr>\n",
       "  </tbody>\n",
       "</table>\n",
       "</div>"
      ],
      "text/plain": [
       "     Country         ACS\n",
       "5     Canada  222.866667\n",
       "3   Colombia  221.354545\n",
       "10    Russia  219.330769\n",
       "9     Turkey  217.140816\n",
       "11     Chile  215.006897"
      ]
     },
     "execution_count": 219,
     "metadata": {},
     "output_type": "execute_result"
    }
   ],
   "source": [
    "relevant_df[['Country', 'ACS']].sort_values(by='ACS', ascending=False).head(5)"
   ]
  },
  {
   "cell_type": "code",
   "execution_count": 220,
   "metadata": {},
   "outputs": [
    {
     "data": {
      "text/html": [
       "<div>\n",
       "<style scoped>\n",
       "    .dataframe tbody tr th:only-of-type {\n",
       "        vertical-align: middle;\n",
       "    }\n",
       "\n",
       "    .dataframe tbody tr th {\n",
       "        vertical-align: top;\n",
       "    }\n",
       "\n",
       "    .dataframe thead th {\n",
       "        text-align: right;\n",
       "    }\n",
       "</style>\n",
       "<table border=\"1\" class=\"dataframe\">\n",
       "  <thead>\n",
       "    <tr style=\"text-align: right;\">\n",
       "      <th></th>\n",
       "      <th>Country</th>\n",
       "      <th>K/D</th>\n",
       "    </tr>\n",
       "  </thead>\n",
       "  <tbody>\n",
       "    <tr>\n",
       "      <th>10</th>\n",
       "      <td>Russia</td>\n",
       "      <td>1.182308</td>\n",
       "    </tr>\n",
       "    <tr>\n",
       "      <th>5</th>\n",
       "      <td>Canada</td>\n",
       "      <td>1.158611</td>\n",
       "    </tr>\n",
       "    <tr>\n",
       "      <th>3</th>\n",
       "      <td>Colombia</td>\n",
       "      <td>1.157727</td>\n",
       "    </tr>\n",
       "    <tr>\n",
       "      <th>9</th>\n",
       "      <td>Turkey</td>\n",
       "      <td>1.118776</td>\n",
       "    </tr>\n",
       "    <tr>\n",
       "      <th>0</th>\n",
       "      <td>Argentina</td>\n",
       "      <td>1.116471</td>\n",
       "    </tr>\n",
       "  </tbody>\n",
       "</table>\n",
       "</div>"
      ],
      "text/plain": [
       "      Country       K/D\n",
       "10     Russia  1.182308\n",
       "5      Canada  1.158611\n",
       "3    Colombia  1.157727\n",
       "9      Turkey  1.118776\n",
       "0   Argentina  1.116471"
      ]
     },
     "execution_count": 220,
     "metadata": {},
     "output_type": "execute_result"
    }
   ],
   "source": [
    "relevant_df[['Country', 'K/D']].sort_values(by='K/D', ascending=False).head(5)"
   ]
  },
  {
   "cell_type": "markdown",
   "metadata": {},
   "source": [
    "Now we got relevant information with a clear top3 which is Canada, Russia and Colombia"
   ]
  },
  {
   "cell_type": "markdown",
   "metadata": {},
   "source": [
    "## 5. Who's top 10 performers based on both rating and K/D?"
   ]
  },
  {
   "cell_type": "code",
   "execution_count": 221,
   "metadata": {},
   "outputs": [
    {
     "data": {
      "text/html": [
       "<div>\n",
       "<style scoped>\n",
       "    .dataframe tbody tr th:only-of-type {\n",
       "        vertical-align: middle;\n",
       "    }\n",
       "\n",
       "    .dataframe tbody tr th {\n",
       "        vertical-align: top;\n",
       "    }\n",
       "\n",
       "    .dataframe thead th {\n",
       "        text-align: right;\n",
       "    }\n",
       "</style>\n",
       "<table border=\"1\" class=\"dataframe\">\n",
       "  <thead>\n",
       "    <tr style=\"text-align: right;\">\n",
       "      <th></th>\n",
       "      <th>Player</th>\n",
       "      <th>Country</th>\n",
       "      <th>Rounds</th>\n",
       "      <th>Rating</th>\n",
       "      <th>ACS</th>\n",
       "      <th>K/D</th>\n",
       "      <th>ADR</th>\n",
       "      <th>KPR</th>\n",
       "      <th>DPR</th>\n",
       "      <th>APR</th>\n",
       "      <th>FBPR</th>\n",
       "      <th>FDPR</th>\n",
       "      <th>HS%</th>\n",
       "      <th>FBSR</th>\n",
       "    </tr>\n",
       "  </thead>\n",
       "  <tbody>\n",
       "    <tr>\n",
       "      <th>0</th>\n",
       "      <td>Ivy</td>\n",
       "      <td>Colombia</td>\n",
       "      <td>522</td>\n",
       "      <td>1.57</td>\n",
       "      <td>306.4</td>\n",
       "      <td>1.95</td>\n",
       "      <td>192.8</td>\n",
       "      <td>1.10</td>\n",
       "      <td>0.56</td>\n",
       "      <td>0.24</td>\n",
       "      <td>0.22</td>\n",
       "      <td>0.08</td>\n",
       "      <td>35</td>\n",
       "      <td>73</td>\n",
       "    </tr>\n",
       "    <tr>\n",
       "      <th>2</th>\n",
       "      <td>cNed</td>\n",
       "      <td>Turkey</td>\n",
       "      <td>5644</td>\n",
       "      <td>1.36</td>\n",
       "      <td>270.3</td>\n",
       "      <td>1.44</td>\n",
       "      <td>162.7</td>\n",
       "      <td>0.96</td>\n",
       "      <td>0.67</td>\n",
       "      <td>0.18</td>\n",
       "      <td>0.19</td>\n",
       "      <td>0.11</td>\n",
       "      <td>24</td>\n",
       "      <td>65</td>\n",
       "    </tr>\n",
       "    <tr>\n",
       "      <th>1</th>\n",
       "      <td>mwzera</td>\n",
       "      <td>Brazil</td>\n",
       "      <td>3089</td>\n",
       "      <td>1.36</td>\n",
       "      <td>286.8</td>\n",
       "      <td>1.40</td>\n",
       "      <td>175.2</td>\n",
       "      <td>0.99</td>\n",
       "      <td>0.71</td>\n",
       "      <td>0.24</td>\n",
       "      <td>0.18</td>\n",
       "      <td>0.10</td>\n",
       "      <td>17</td>\n",
       "      <td>65</td>\n",
       "    </tr>\n",
       "    <tr>\n",
       "      <th>3</th>\n",
       "      <td>something</td>\n",
       "      <td>Russia</td>\n",
       "      <td>975</td>\n",
       "      <td>1.35</td>\n",
       "      <td>283.2</td>\n",
       "      <td>1.44</td>\n",
       "      <td>175.9</td>\n",
       "      <td>1.00</td>\n",
       "      <td>0.69</td>\n",
       "      <td>0.18</td>\n",
       "      <td>0.19</td>\n",
       "      <td>0.14</td>\n",
       "      <td>22</td>\n",
       "      <td>58</td>\n",
       "    </tr>\n",
       "    <tr>\n",
       "      <th>4</th>\n",
       "      <td>Jianna</td>\n",
       "      <td>Armenia</td>\n",
       "      <td>410</td>\n",
       "      <td>1.35</td>\n",
       "      <td>276.7</td>\n",
       "      <td>1.38</td>\n",
       "      <td>182.7</td>\n",
       "      <td>0.91</td>\n",
       "      <td>0.66</td>\n",
       "      <td>0.35</td>\n",
       "      <td>0.15</td>\n",
       "      <td>0.07</td>\n",
       "      <td>18</td>\n",
       "      <td>70</td>\n",
       "    </tr>\n",
       "    <tr>\n",
       "      <th>5</th>\n",
       "      <td>GangPin</td>\n",
       "      <td>South Korea</td>\n",
       "      <td>656</td>\n",
       "      <td>1.35</td>\n",
       "      <td>264.0</td>\n",
       "      <td>1.33</td>\n",
       "      <td>164.2</td>\n",
       "      <td>0.91</td>\n",
       "      <td>0.68</td>\n",
       "      <td>0.25</td>\n",
       "      <td>0.19</td>\n",
       "      <td>0.14</td>\n",
       "      <td>25</td>\n",
       "      <td>57</td>\n",
       "    </tr>\n",
       "    <tr>\n",
       "      <th>6</th>\n",
       "      <td>Keznit</td>\n",
       "      <td>Chile</td>\n",
       "      <td>2633</td>\n",
       "      <td>1.33</td>\n",
       "      <td>276.6</td>\n",
       "      <td>1.34</td>\n",
       "      <td>169.1</td>\n",
       "      <td>0.95</td>\n",
       "      <td>0.71</td>\n",
       "      <td>0.24</td>\n",
       "      <td>0.19</td>\n",
       "      <td>0.13</td>\n",
       "      <td>23</td>\n",
       "      <td>59</td>\n",
       "    </tr>\n",
       "    <tr>\n",
       "      <th>8</th>\n",
       "      <td>trexx</td>\n",
       "      <td>Russia</td>\n",
       "      <td>3245</td>\n",
       "      <td>1.32</td>\n",
       "      <td>260.3</td>\n",
       "      <td>1.45</td>\n",
       "      <td>165.4</td>\n",
       "      <td>0.89</td>\n",
       "      <td>0.62</td>\n",
       "      <td>0.32</td>\n",
       "      <td>0.14</td>\n",
       "      <td>0.09</td>\n",
       "      <td>18</td>\n",
       "      <td>61</td>\n",
       "    </tr>\n",
       "    <tr>\n",
       "      <th>7</th>\n",
       "      <td>ScreaM</td>\n",
       "      <td>Belgium</td>\n",
       "      <td>4893</td>\n",
       "      <td>1.32</td>\n",
       "      <td>270.7</td>\n",
       "      <td>1.40</td>\n",
       "      <td>171.8</td>\n",
       "      <td>0.94</td>\n",
       "      <td>0.67</td>\n",
       "      <td>0.23</td>\n",
       "      <td>0.17</td>\n",
       "      <td>0.09</td>\n",
       "      <td>33</td>\n",
       "      <td>66</td>\n",
       "    </tr>\n",
       "    <tr>\n",
       "      <th>9</th>\n",
       "      <td>Leo</td>\n",
       "      <td>Sweden</td>\n",
       "      <td>4082</td>\n",
       "      <td>1.32</td>\n",
       "      <td>239.9</td>\n",
       "      <td>1.39</td>\n",
       "      <td>155.7</td>\n",
       "      <td>0.84</td>\n",
       "      <td>0.61</td>\n",
       "      <td>0.33</td>\n",
       "      <td>0.09</td>\n",
       "      <td>0.05</td>\n",
       "      <td>23</td>\n",
       "      <td>67</td>\n",
       "    </tr>\n",
       "  </tbody>\n",
       "</table>\n",
       "</div>"
      ],
      "text/plain": [
       "       Player      Country  Rounds  Rating    ACS   K/D    ADR   KPR   DPR  \\\n",
       "0         Ivy     Colombia     522    1.57  306.4  1.95  192.8  1.10  0.56   \n",
       "2        cNed       Turkey    5644    1.36  270.3  1.44  162.7  0.96  0.67   \n",
       "1      mwzera       Brazil    3089    1.36  286.8  1.40  175.2  0.99  0.71   \n",
       "3   something       Russia     975    1.35  283.2  1.44  175.9  1.00  0.69   \n",
       "4      Jianna      Armenia     410    1.35  276.7  1.38  182.7  0.91  0.66   \n",
       "5     GangPin  South Korea     656    1.35  264.0  1.33  164.2  0.91  0.68   \n",
       "6      Keznit        Chile    2633    1.33  276.6  1.34  169.1  0.95  0.71   \n",
       "8       trexx       Russia    3245    1.32  260.3  1.45  165.4  0.89  0.62   \n",
       "7      ScreaM      Belgium    4893    1.32  270.7  1.40  171.8  0.94  0.67   \n",
       "9         Leo       Sweden    4082    1.32  239.9  1.39  155.7  0.84  0.61   \n",
       "\n",
       "    APR  FBPR  FDPR  HS%  FBSR  \n",
       "0  0.24  0.22  0.08   35    73  \n",
       "2  0.18  0.19  0.11   24    65  \n",
       "1  0.24  0.18  0.10   17    65  \n",
       "3  0.18  0.19  0.14   22    58  \n",
       "4  0.35  0.15  0.07   18    70  \n",
       "5  0.25  0.19  0.14   25    57  \n",
       "6  0.24  0.19  0.13   23    59  \n",
       "8  0.32  0.14  0.09   18    61  \n",
       "7  0.23  0.17  0.09   33    66  \n",
       "9  0.33  0.09  0.05   23    67  "
      ]
     },
     "execution_count": 221,
     "metadata": {},
     "output_type": "execute_result"
    }
   ],
   "source": [
    "df.sort_values(by=['Rating', 'K/D'], ascending=False).head(10)"
   ]
  },
  {
   "cell_type": "markdown",
   "metadata": {},
   "source": [
    "Lets add amount of rounds played to see how this changing things"
   ]
  },
  {
   "cell_type": "code",
   "execution_count": 222,
   "metadata": {},
   "outputs": [
    {
     "data": {
      "text/html": [
       "<div>\n",
       "<style scoped>\n",
       "    .dataframe tbody tr th:only-of-type {\n",
       "        vertical-align: middle;\n",
       "    }\n",
       "\n",
       "    .dataframe tbody tr th {\n",
       "        vertical-align: top;\n",
       "    }\n",
       "\n",
       "    .dataframe thead th {\n",
       "        text-align: right;\n",
       "    }\n",
       "</style>\n",
       "<table border=\"1\" class=\"dataframe\">\n",
       "  <thead>\n",
       "    <tr style=\"text-align: right;\">\n",
       "      <th></th>\n",
       "      <th>Player</th>\n",
       "      <th>Country</th>\n",
       "      <th>Rounds</th>\n",
       "      <th>Rating</th>\n",
       "      <th>ACS</th>\n",
       "      <th>K/D</th>\n",
       "      <th>ADR</th>\n",
       "      <th>KPR</th>\n",
       "      <th>DPR</th>\n",
       "      <th>APR</th>\n",
       "      <th>FBPR</th>\n",
       "      <th>FDPR</th>\n",
       "      <th>HS%</th>\n",
       "      <th>FBSR</th>\n",
       "    </tr>\n",
       "  </thead>\n",
       "  <tbody>\n",
       "    <tr>\n",
       "      <th>74</th>\n",
       "      <td>Critical</td>\n",
       "      <td>Canada</td>\n",
       "      <td>19824</td>\n",
       "      <td>1.20</td>\n",
       "      <td>230.5</td>\n",
       "      <td>1.18</td>\n",
       "      <td>150.4</td>\n",
       "      <td>0.79</td>\n",
       "      <td>0.67</td>\n",
       "      <td>0.34</td>\n",
       "      <td>0.10</td>\n",
       "      <td>0.08</td>\n",
       "      <td>22</td>\n",
       "      <td>54</td>\n",
       "    </tr>\n",
       "    <tr>\n",
       "      <th>228</th>\n",
       "      <td>Jerk</td>\n",
       "      <td>Canada</td>\n",
       "      <td>19258</td>\n",
       "      <td>1.12</td>\n",
       "      <td>223.1</td>\n",
       "      <td>1.13</td>\n",
       "      <td>143.1</td>\n",
       "      <td>0.77</td>\n",
       "      <td>0.68</td>\n",
       "      <td>0.30</td>\n",
       "      <td>0.09</td>\n",
       "      <td>0.08</td>\n",
       "      <td>16</td>\n",
       "      <td>54</td>\n",
       "    </tr>\n",
       "    <tr>\n",
       "      <th>266</th>\n",
       "      <td>Governor</td>\n",
       "      <td>United States</td>\n",
       "      <td>16056</td>\n",
       "      <td>1.10</td>\n",
       "      <td>223.7</td>\n",
       "      <td>1.08</td>\n",
       "      <td>143.1</td>\n",
       "      <td>0.77</td>\n",
       "      <td>0.72</td>\n",
       "      <td>0.26</td>\n",
       "      <td>0.14</td>\n",
       "      <td>0.12</td>\n",
       "      <td>23</td>\n",
       "      <td>53</td>\n",
       "    </tr>\n",
       "    <tr>\n",
       "      <th>400</th>\n",
       "      <td>jcStani</td>\n",
       "      <td>United States</td>\n",
       "      <td>13982</td>\n",
       "      <td>1.05</td>\n",
       "      <td>205.0</td>\n",
       "      <td>1.03</td>\n",
       "      <td>130.8</td>\n",
       "      <td>0.73</td>\n",
       "      <td>0.70</td>\n",
       "      <td>0.28</td>\n",
       "      <td>0.10</td>\n",
       "      <td>0.08</td>\n",
       "      <td>26</td>\n",
       "      <td>54</td>\n",
       "    </tr>\n",
       "    <tr>\n",
       "      <th>207</th>\n",
       "      <td>retrQ</td>\n",
       "      <td>United States</td>\n",
       "      <td>10397</td>\n",
       "      <td>1.13</td>\n",
       "      <td>224.0</td>\n",
       "      <td>1.17</td>\n",
       "      <td>142.3</td>\n",
       "      <td>0.79</td>\n",
       "      <td>0.67</td>\n",
       "      <td>0.26</td>\n",
       "      <td>0.10</td>\n",
       "      <td>0.09</td>\n",
       "      <td>25</td>\n",
       "      <td>53</td>\n",
       "    </tr>\n",
       "    <tr>\n",
       "      <th>422</th>\n",
       "      <td>randyySAVAGE</td>\n",
       "      <td>Canada</td>\n",
       "      <td>10130</td>\n",
       "      <td>1.04</td>\n",
       "      <td>208.1</td>\n",
       "      <td>1.08</td>\n",
       "      <td>136.6</td>\n",
       "      <td>0.72</td>\n",
       "      <td>0.67</td>\n",
       "      <td>0.24</td>\n",
       "      <td>0.10</td>\n",
       "      <td>0.08</td>\n",
       "      <td>26</td>\n",
       "      <td>53</td>\n",
       "    </tr>\n",
       "    <tr>\n",
       "      <th>401</th>\n",
       "      <td>TURKO</td>\n",
       "      <td>Turkey</td>\n",
       "      <td>9292</td>\n",
       "      <td>1.05</td>\n",
       "      <td>204.7</td>\n",
       "      <td>1.24</td>\n",
       "      <td>137.8</td>\n",
       "      <td>0.75</td>\n",
       "      <td>0.61</td>\n",
       "      <td>0.24</td>\n",
       "      <td>0.07</td>\n",
       "      <td>0.04</td>\n",
       "      <td>28</td>\n",
       "      <td>63</td>\n",
       "    </tr>\n",
       "    <tr>\n",
       "      <th>219</th>\n",
       "      <td>mina</td>\n",
       "      <td>United States</td>\n",
       "      <td>9234</td>\n",
       "      <td>1.12</td>\n",
       "      <td>233.3</td>\n",
       "      <td>1.13</td>\n",
       "      <td>144.6</td>\n",
       "      <td>0.81</td>\n",
       "      <td>0.72</td>\n",
       "      <td>0.22</td>\n",
       "      <td>0.16</td>\n",
       "      <td>0.13</td>\n",
       "      <td>22</td>\n",
       "      <td>55</td>\n",
       "    </tr>\n",
       "    <tr>\n",
       "      <th>482</th>\n",
       "      <td>StrongLegs</td>\n",
       "      <td>Canada</td>\n",
       "      <td>8805</td>\n",
       "      <td>1.02</td>\n",
       "      <td>193.3</td>\n",
       "      <td>1.03</td>\n",
       "      <td>122.9</td>\n",
       "      <td>0.68</td>\n",
       "      <td>0.66</td>\n",
       "      <td>0.33</td>\n",
       "      <td>0.08</td>\n",
       "      <td>0.08</td>\n",
       "      <td>23</td>\n",
       "      <td>51</td>\n",
       "    </tr>\n",
       "    <tr>\n",
       "      <th>222</th>\n",
       "      <td>Nanners</td>\n",
       "      <td>United States</td>\n",
       "      <td>8554</td>\n",
       "      <td>1.12</td>\n",
       "      <td>229.8</td>\n",
       "      <td>1.14</td>\n",
       "      <td>147.5</td>\n",
       "      <td>0.79</td>\n",
       "      <td>0.69</td>\n",
       "      <td>0.26</td>\n",
       "      <td>0.12</td>\n",
       "      <td>0.11</td>\n",
       "      <td>23</td>\n",
       "      <td>52</td>\n",
       "    </tr>\n",
       "  </tbody>\n",
       "</table>\n",
       "</div>"
      ],
      "text/plain": [
       "            Player        Country  Rounds  Rating    ACS   K/D    ADR   KPR  \\\n",
       "74        Critical         Canada   19824    1.20  230.5  1.18  150.4  0.79   \n",
       "228           Jerk         Canada   19258    1.12  223.1  1.13  143.1  0.77   \n",
       "266       Governor  United States   16056    1.10  223.7  1.08  143.1  0.77   \n",
       "400        jcStani  United States   13982    1.05  205.0  1.03  130.8  0.73   \n",
       "207          retrQ  United States   10397    1.13  224.0  1.17  142.3  0.79   \n",
       "422   randyySAVAGE         Canada   10130    1.04  208.1  1.08  136.6  0.72   \n",
       "401          TURKO         Turkey    9292    1.05  204.7  1.24  137.8  0.75   \n",
       "219           mina  United States    9234    1.12  233.3  1.13  144.6  0.81   \n",
       "482     StrongLegs         Canada    8805    1.02  193.3  1.03  122.9  0.68   \n",
       "222        Nanners  United States    8554    1.12  229.8  1.14  147.5  0.79   \n",
       "\n",
       "      DPR   APR  FBPR  FDPR  HS%  FBSR  \n",
       "74   0.67  0.34  0.10  0.08   22    54  \n",
       "228  0.68  0.30  0.09  0.08   16    54  \n",
       "266  0.72  0.26  0.14  0.12   23    53  \n",
       "400  0.70  0.28  0.10  0.08   26    54  \n",
       "207  0.67  0.26  0.10  0.09   25    53  \n",
       "422  0.67  0.24  0.10  0.08   26    53  \n",
       "401  0.61  0.24  0.07  0.04   28    63  \n",
       "219  0.72  0.22  0.16  0.13   22    55  \n",
       "482  0.66  0.33  0.08  0.08   23    51  \n",
       "222  0.69  0.26  0.12  0.11   23    52  "
      ]
     },
     "execution_count": 222,
     "metadata": {},
     "output_type": "execute_result"
    }
   ],
   "source": [
    "df.sort_values(by=['Rounds', 'Rating', 'K/D'], ascending=False).head(10)"
   ]
  },
  {
   "cell_type": "markdown",
   "metadata": {},
   "source": [
    "It changed massively our set. The best solution would be not to add Rounds in the sort but to give it some weight. But we will stop there for now."
   ]
  },
  {
   "cell_type": "markdown",
   "metadata": {},
   "source": [
    "## 6. Does HS% and KDR relation follow linear regression?"
   ]
  },
  {
   "cell_type": "code",
   "execution_count": 223,
   "metadata": {},
   "outputs": [
    {
     "data": {
      "image/png": "[encoded data removed]",
      "text/plain": [
       "<Figure size 720x432 with 1 Axes>"
      ]
     },
     "metadata": {
      "needs_background": "light"
     },
     "output_type": "display_data"
    }
   ],
   "source": [
    "plt.figure(figsize=(10, 6))\n",
    "sns.regplot(x='HS%', y='K/D', data=df, x_jitter=0.05)\n",
    "plt.title('HS% and K/D relation', fontsize=24, color='Orange')\n",
    "plt.ylabel('K/D', fontsize=12, color='Black')\n",
    "plt.xlabel('HS%', fontsize=12)\n",
    "plt.yticks([0.8, 1.2, 1.6])\n",
    "plt.xticks([15, 25, 35])\n",
    "plt.show()"
   ]
  },
  {
   "cell_type": "markdown",
   "metadata": {},
   "source": [
    "We can say that relation between this two columns pretty much follows the linear regression model."
   ]
  }
 ],
 "metadata": {
  "interpreter": {
   "hash": "9e73fa6c7d2eec20d67899cb1a6538130862710db2858ffb60b0613cf6bad662"
  },
  "kernelspec": {
   "display_name": "Python 3.9.10 64-bit (windows store)",
   "language": "python",
   "name": "python3"
  },
  "language_info": {
   "codemirror_mode": {
    "name": "ipython",
    "version": 3
   },
   "file_extension": ".py",
   "mimetype": "text/x-python",
   "name": "python",
   "nbconvert_exporter": "python",
   "pygments_lexer": "ipython3",
   "version": "3.9.10"
  },
  "orig_nbformat": 4
 },
 "nbformat": 4,
 "nbformat_minor": 2
}
